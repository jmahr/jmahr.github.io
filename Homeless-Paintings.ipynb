{
 "metadata": {
  "name": ""
 },
 "nbformat": 3,
 "nbformat_minor": 0,
 "worksheets": [
  {
   "cells": [
    {
     "cell_type": "code",
     "collapsed": false,
     "input": [
      "import json\n",
      "import requests\n",
      "\n",
      "#Initialize data and size\n",
      "data2 = []\n",
      "size = 11233\n",
      "\n",
      "#Loop through records\n",
      "for record in range(6444, size + 1):\n",
      "\n",
      "    #Print record counts mod 100\n",
      "    if record % 100 == 0:\n",
      "        print record\n",
      "    \n",
      "    #Get and load json record url\n",
      "    r = requests.get(\"http://curarium.herokuapp.com/records/\" + str(record) + \".json\")\n",
      "    data2.append(json.loads(r.content))\n",
      "    \n",
      "#Write data to file\n",
      "with open('data.txt', 'w') as outfile:\n",
      "    \n",
      "    #Prettify json for readability\n",
      "    json.dump(data, outfile, sort_keys = True, indent = 4, ensure_ascii = False)\n"
     ],
     "language": "python",
     "metadata": {},
     "outputs": [
      {
       "output_type": "stream",
       "stream": "stdout",
       "text": [
        "6500\n",
        "6600"
       ]
      },
      {
       "output_type": "stream",
       "stream": "stdout",
       "text": [
        "\n",
        "6700"
       ]
      },
      {
       "output_type": "stream",
       "stream": "stdout",
       "text": [
        "\n",
        "6800"
       ]
      },
      {
       "output_type": "stream",
       "stream": "stdout",
       "text": [
        "\n",
        "6900"
       ]
      },
      {
       "output_type": "stream",
       "stream": "stdout",
       "text": [
        "\n",
        "7000"
       ]
      },
      {
       "output_type": "stream",
       "stream": "stdout",
       "text": [
        "\n",
        "7100"
       ]
      },
      {
       "output_type": "stream",
       "stream": "stdout",
       "text": [
        "\n",
        "7200"
       ]
      },
      {
       "output_type": "stream",
       "stream": "stdout",
       "text": [
        "\n",
        "7300"
       ]
      },
      {
       "output_type": "stream",
       "stream": "stdout",
       "text": [
        "\n",
        "7400"
       ]
      },
      {
       "output_type": "stream",
       "stream": "stdout",
       "text": [
        "\n",
        "7500"
       ]
      },
      {
       "output_type": "stream",
       "stream": "stdout",
       "text": [
        "\n",
        "7600"
       ]
      },
      {
       "output_type": "stream",
       "stream": "stdout",
       "text": [
        "\n",
        "7700"
       ]
      },
      {
       "output_type": "stream",
       "stream": "stdout",
       "text": [
        "\n",
        "7800"
       ]
      },
      {
       "output_type": "stream",
       "stream": "stdout",
       "text": [
        "\n",
        "7900"
       ]
      },
      {
       "output_type": "stream",
       "stream": "stdout",
       "text": [
        "\n",
        "8000"
       ]
      },
      {
       "output_type": "stream",
       "stream": "stdout",
       "text": [
        "\n",
        "8100"
       ]
      },
      {
       "output_type": "stream",
       "stream": "stdout",
       "text": [
        "\n",
        "8200"
       ]
      },
      {
       "output_type": "stream",
       "stream": "stdout",
       "text": [
        "\n",
        "8300"
       ]
      },
      {
       "output_type": "stream",
       "stream": "stdout",
       "text": [
        "\n",
        "8400"
       ]
      },
      {
       "output_type": "stream",
       "stream": "stdout",
       "text": [
        "\n",
        "8500"
       ]
      },
      {
       "output_type": "stream",
       "stream": "stdout",
       "text": [
        "\n",
        "8600"
       ]
      },
      {
       "output_type": "stream",
       "stream": "stdout",
       "text": [
        "\n",
        "8700"
       ]
      },
      {
       "output_type": "stream",
       "stream": "stdout",
       "text": [
        "\n",
        "8800"
       ]
      },
      {
       "output_type": "stream",
       "stream": "stdout",
       "text": [
        "\n",
        "8900"
       ]
      },
      {
       "output_type": "stream",
       "stream": "stdout",
       "text": [
        "\n",
        "9000"
       ]
      },
      {
       "output_type": "stream",
       "stream": "stdout",
       "text": [
        "\n",
        "9100"
       ]
      },
      {
       "output_type": "stream",
       "stream": "stdout",
       "text": [
        "\n",
        "9200"
       ]
      },
      {
       "output_type": "stream",
       "stream": "stdout",
       "text": [
        "\n",
        "9300"
       ]
      },
      {
       "output_type": "stream",
       "stream": "stdout",
       "text": [
        "\n",
        "9400"
       ]
      },
      {
       "output_type": "stream",
       "stream": "stdout",
       "text": [
        "\n",
        "9500"
       ]
      },
      {
       "output_type": "stream",
       "stream": "stdout",
       "text": [
        "\n",
        "9600"
       ]
      },
      {
       "output_type": "stream",
       "stream": "stdout",
       "text": [
        "\n",
        "9700"
       ]
      },
      {
       "output_type": "stream",
       "stream": "stdout",
       "text": [
        "\n",
        "9800"
       ]
      },
      {
       "output_type": "stream",
       "stream": "stdout",
       "text": [
        "\n",
        "9900"
       ]
      },
      {
       "output_type": "stream",
       "stream": "stdout",
       "text": [
        "\n",
        "10000"
       ]
      },
      {
       "output_type": "stream",
       "stream": "stdout",
       "text": [
        "\n",
        "10100"
       ]
      },
      {
       "output_type": "stream",
       "stream": "stdout",
       "text": [
        "\n",
        "10200"
       ]
      },
      {
       "output_type": "stream",
       "stream": "stdout",
       "text": [
        "\n",
        "10300"
       ]
      },
      {
       "output_type": "stream",
       "stream": "stdout",
       "text": [
        "\n",
        "10400"
       ]
      },
      {
       "output_type": "stream",
       "stream": "stdout",
       "text": [
        "\n",
        "10500"
       ]
      },
      {
       "output_type": "stream",
       "stream": "stdout",
       "text": [
        "\n",
        "10600"
       ]
      },
      {
       "output_type": "stream",
       "stream": "stdout",
       "text": [
        "\n",
        "10700"
       ]
      },
      {
       "output_type": "stream",
       "stream": "stdout",
       "text": [
        "\n",
        "10800"
       ]
      },
      {
       "output_type": "stream",
       "stream": "stdout",
       "text": [
        "\n",
        "10900"
       ]
      },
      {
       "output_type": "stream",
       "stream": "stdout",
       "text": [
        "\n",
        "11000"
       ]
      },
      {
       "output_type": "stream",
       "stream": "stdout",
       "text": [
        "\n",
        "11100"
       ]
      },
      {
       "output_type": "stream",
       "stream": "stdout",
       "text": [
        "\n",
        "11200"
       ]
      },
      {
       "output_type": "stream",
       "stream": "stdout",
       "text": [
        "\n"
       ]
      }
     ],
     "prompt_number": 14
    },
    {
     "cell_type": "code",
     "collapsed": false,
     "input": [
      "import json\n",
      "import pandas as pd\n",
      "import re\n",
      "\n",
      "#Open both json files\n",
      "json_data1 = open('data1.txt').read()\n",
      "json_data2 = open('data2.txt').read()\n",
      "\n",
      "#Transform txt into json\n",
      "data1 = json.loads(json_data1)\n",
      "data2 = json.loads(json_data2)\n",
      "\n",
      "#Concatenate jsons\n",
      "data = data1 + data2\n",
      "\n",
      "#Create new pandas dataframe\n",
      "df = pd.DataFrame(columns = ['record','painting','artist','image','date','topics','city'])\n",
      "\n",
      "#Loop through paintings\n",
      "for painting in data:\n",
      "    \n",
      "    try:\n",
      "        \n",
      "        #Add json info to dict\n",
      "        painting_dict = {'record': painting['id'],\n",
      "                         'painting': painting['original']['titleInfo'][0]['title'][0].encode('utf-8'),\n",
      "                         'artist': painting['original']['name'][0]['namePart'][0].encode('utf-8'),\n",
      "                         'image': painting['parsed']['image'][0],\n",
      "                         'date': painting['parsed']['date'][0]}\n",
      "    \n",
      "    #Skip entry if json info is missing\n",
      "    except IndexError:\n",
      "        continue\n",
      "    \n",
      "    #Check if there are topics\n",
      "    if 'topics' in painting['parsed']:\n",
      "        \n",
      "        #If there are topics, add to dict\n",
      "        painting_dict['topics'] = painting['parsed']['topics']\n",
      "        \n",
      "    #Check if there are notes\n",
      "    if 'note' in painting['original']:\n",
      "    \n",
      "        #If there are notes, loop through notes\n",
      "        for note in painting['original']['note']:\n",
      "            \n",
      "            #Check if the note is provenance\n",
      "            if note[:10] == \"Provenance\":\n",
      "                \n",
      "                #Loop through cities to check for\n",
      "                for city in ['Bologna','Catania','Florence','Genoa','Messina','Milan','Naples',\n",
      "                             'Padua','Palermo','Rome','Trieste','Turin','Venice','Verona']:\n",
      "                \n",
      "                    #Regex to match cities\n",
      "                    if re.search(city, note):\n",
      "                    \n",
      "                        #Add city to dict and move to next painting\n",
      "                        painting_dict['city'] = city\n",
      "                        continue\n",
      "            \n",
      "    #Add dict as row to dataframe\n",
      "    row = pd.DataFrame([painting_dict,])\n",
      "    df = df.append(row, ignore_index = True)\n",
      "\n",
      "#Convert dataframe to CSV\n",
      "df.to_csv('data.csv')"
     ],
     "language": "python",
     "metadata": {},
     "outputs": [],
     "prompt_number": 3
    },
    {
     "cell_type": "code",
     "collapsed": false,
     "input": [],
     "language": "python",
     "metadata": {},
     "outputs": []
    }
   ],
   "metadata": {}
  }
 ]
}